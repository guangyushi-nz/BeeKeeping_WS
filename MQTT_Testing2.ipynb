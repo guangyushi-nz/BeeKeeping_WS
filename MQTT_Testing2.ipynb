{
 "cells": [
  {
   "cell_type": "code",
   "execution_count": 18,
   "metadata": {},
   "outputs": [
    {
     "name": "stderr",
     "output_type": "stream",
     "text": [
      "C:\\Users\\hippo\\AppData\\Local\\Temp\\ipykernel_1292\\4150295093.py:29: DeprecationWarning: Callback API version 1 is deprecated, update to latest version\n",
      "  client = mqtt.Client()\n"
     ]
    },
    {
     "name": "stdout",
     "output_type": "stream",
     "text": [
      "Message sent: Hello, HiveMQ Cloud!\n",
      "Received message: None\n"
     ]
    }
   ],
   "source": [
    "import paho.mqtt.client as mqtt\n",
    "\n",
    "# Define MQTT broker details\n",
    "broker_url = \"25ab2416fcd34f328cb70fb7ff3f5294.s1.eu.hivemq.cloud\"\n",
    "tls_port = 8883\n",
    "topic = \"greenhouse/bee\"  # Set the MQTT topic to \"greenhouse/bee\"\n",
    "\n",
    "# Define authentication credentials\n",
    "username = \"beesound\"\n",
    "password = \"beesound\"\n",
    "\n",
    "# Store received message here\n",
    "received_message = None\n",
    "\n",
    "# Callback function to handle connection\n",
    "def on_connect(client, userdata, flags, rc):\n",
    "    if rc == 0:\n",
    "        print(\"Connected to MQTT broker\")\n",
    "    else:\n",
    "        print(\"Failed to connect to MQTT broker. Error code:\", rc)\n",
    "\n",
    "# Callback function to handle message received\n",
    "def on_message(client, userdata, message):\n",
    "    global received_message\n",
    "    received_message = message.payload.decode(\"utf-8\")\n",
    "    print(\"Received message:\", received_message)\n",
    "\n",
    "# Create MQTT client instance\n",
    "client = mqtt.Client()\n",
    "\n",
    "# Set authentication credentials\n",
    "client.username_pw_set(username, password)\n",
    "\n",
    "# Set up callback functions\n",
    "client.on_connect = on_connect\n",
    "client.on_message = on_message\n",
    "\n",
    "# Connect to MQTT broker\n",
    "client.connect(broker_url, tls_port)\n",
    "\n",
    "# Subscribe to the topic to receive messages\n",
    "client.subscribe(topic,1)\n",
    "\n",
    "# Publish message to topic\n",
    "message = \"Hello, HiveMQ Cloud!\"\n",
    "client.publish(topic, message)\n",
    "\n",
    "# Wait for a moment to receive the message\n",
    "client.loop(timeout=5)  # Increase timeout if necessary\n",
    "\n",
    "# Disconnect from MQTT broker\n",
    "client.disconnect()\n",
    "\n",
    "print(\"Message sent:\", message)\n",
    "print(\"Received message:\", received_message)\n"
   ]
  }
 ],
 "metadata": {
  "kernelspec": {
   "display_name": "Python 3",
   "language": "python",
   "name": "python3"
  },
  "language_info": {
   "codemirror_mode": {
    "name": "ipython",
    "version": 3
   },
   "file_extension": ".py",
   "mimetype": "text/x-python",
   "name": "python",
   "nbconvert_exporter": "python",
   "pygments_lexer": "ipython3",
   "version": "3.11.4"
  }
 },
 "nbformat": 4,
 "nbformat_minor": 2
}
