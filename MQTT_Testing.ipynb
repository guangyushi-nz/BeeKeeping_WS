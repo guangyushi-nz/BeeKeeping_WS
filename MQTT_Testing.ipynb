{
 "cells": [
  {
   "cell_type": "code",
   "execution_count": 3,
   "metadata": {},
   "outputs": [
    {
     "name": "stderr",
     "output_type": "stream",
     "text": [
      "C:\\Users\\hippo\\AppData\\Local\\Temp\\ipykernel_22016\\2397445724.py:4: DeprecationWarning: Callback API version 1 is deprecated, update to latest version\n",
      "  client = mqtt.Client(client_id='string_publisher')\n"
     ]
    },
    {
     "data": {
      "text/plain": [
       "<MQTTErrorCode.MQTT_ERR_SUCCESS: 0>"
      ]
     },
     "execution_count": 3,
     "metadata": {},
     "output_type": "execute_result"
    }
   ],
   "source": [
    "import paho.mqtt.client as mqtt\n",
    "\n",
    "# Create an MQTT client instance\n",
    "client = mqtt.Client(client_id='string_publisher')\n",
    "\n",
    "# Connect to the MQTT broker\n",
    "client.connect('broker.hivemq.com', 1883)\n",
    "\n",
    "# Specify the string message to send\n",
    "message = 'b'\n",
    "\n",
    "# Specify the topic to publish the message to\n",
    "topic = 'greenhouse/1'\n",
    "\n",
    "# Publish the message\n",
    "client.publish(topic, payload=message, qos=2)\n",
    "\n",
    "# Disconnect from the MQTT broker\n",
    "client.disconnect()\n"
   ]
  }
 ],
 "metadata": {
  "kernelspec": {
   "display_name": "Python 3",
   "language": "python",
   "name": "python3"
  },
  "language_info": {
   "codemirror_mode": {
    "name": "ipython",
    "version": 3
   },
   "file_extension": ".py",
   "mimetype": "text/x-python",
   "name": "python",
   "nbconvert_exporter": "python",
   "pygments_lexer": "ipython3",
   "version": "3.11.4"
  }
 },
 "nbformat": 4,
 "nbformat_minor": 2
}
