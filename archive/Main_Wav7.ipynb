{
 "cells": [
  {
   "cell_type": "markdown",
   "metadata": {},
   "source": [
    "WAV"
   ]
  },
  {
   "cell_type": "code",
   "execution_count": 1,
   "metadata": {},
   "outputs": [
    {
     "name": "stdout",
     "output_type": "stream",
     "text": [
      "Number of Queen Segments: 929\n",
      "Number of No Queen Segments: 924\n",
      "Accuracy of MFCC Features: 99.19%\n",
      "\n",
      "Classification Report:\n",
      "               precision    recall  f1-score   support\n",
      "\n",
      "           0       0.99      0.99      0.99       185\n",
      "           1       0.99      0.99      0.99       186\n",
      "\n",
      "    accuracy                           0.99       371\n",
      "   macro avg       0.99      0.99      0.99       371\n",
      "weighted avg       0.99      0.99      0.99       371\n",
      "\n",
      "Number of Queen Segments: 314\n",
      "Number of No Queen Segments: 302\n",
      "Accuracy of MFCC Features on Validation Data: 90.91%\n",
      "\n",
      "Classification Report on Validation Data:\n",
      "               precision    recall  f1-score   support\n",
      "\n",
      "           0       1.00      0.82      0.90       302\n",
      "           1       0.85      1.00      0.92       314\n",
      "\n",
      "    accuracy                           0.91       616\n",
      "   macro avg       0.92      0.91      0.91       616\n",
      "weighted avg       0.92      0.91      0.91       616\n",
      "\n"
     ]
    }
   ],
   "source": [
    "from archive.Main7_withoutCross import process_audio_files\n",
    "\n",
    "# Example usage\n",
    "queen_training_file = \"QueenBee_Training_45mins.wav\"\n",
    "no_queen_training_file = \"No_QueenBee_Training_45mins.wav\"\n",
    "queen_validation_file = \"QueenBee_Testing_15mins.wav\"\n",
    "no_queen_validation_file = \"No_QueenBee_Testing_15mins.wav\"\n",
    "\n",
    "process_audio_files(queen_training_file, no_queen_training_file, queen_validation_file, no_queen_validation_file)"
   ]
  },
  {
   "cell_type": "markdown",
   "metadata": {},
   "source": [
    "MP3 - 64K"
   ]
  },
  {
   "cell_type": "code",
   "execution_count": 2,
   "metadata": {},
   "outputs": [
    {
     "name": "stdout",
     "output_type": "stream",
     "text": [
      "Number of Queen Segments: 929\n",
      "Number of No Queen Segments: 924\n",
      "Accuracy of MFCC Features: 97.04%\n",
      "\n",
      "Classification Report:\n",
      "               precision    recall  f1-score   support\n",
      "\n",
      "           0       0.97      0.97      0.97       185\n",
      "           1       0.97      0.97      0.97       186\n",
      "\n",
      "    accuracy                           0.97       371\n",
      "   macro avg       0.97      0.97      0.97       371\n",
      "weighted avg       0.97      0.97      0.97       371\n",
      "\n",
      "Number of Queen Segments: 314\n",
      "Number of No Queen Segments: 302\n",
      "Accuracy of MFCC Features on Validation Data: 84.90%\n",
      "\n",
      "Classification Report on Validation Data:\n",
      "               precision    recall  f1-score   support\n",
      "\n",
      "           0       1.00      0.70      0.82       302\n",
      "           1       0.77      1.00      0.87       314\n",
      "\n",
      "    accuracy                           0.85       616\n",
      "   macro avg       0.88      0.85      0.84       616\n",
      "weighted avg       0.88      0.85      0.85       616\n",
      "\n"
     ]
    }
   ],
   "source": [
    "# Example usage\n",
    "queen_training_file = \"QueenBee_Training_45mins_64K.mp3\"\n",
    "no_queen_training_file = \"No_QueenBee_Training_45mins_64K.mp3\"\n",
    "queen_validation_file = \"QueenBee_Testing_15mins_64K.mp3\"\n",
    "no_queen_validation_file = \"No_QueenBee_Testing_15mins_64K.mp3\"\n",
    "\n",
    "process_audio_files(queen_training_file, no_queen_training_file, queen_validation_file, no_queen_validation_file)"
   ]
  },
  {
   "cell_type": "code",
   "execution_count": 3,
   "metadata": {},
   "outputs": [
    {
     "name": "stdout",
     "output_type": "stream",
     "text": [
      "Number of Queen Segments: 929\n",
      "Number of No Queen Segments: 924\n",
      "Accuracy of MFCC Features: 99.19%\n",
      "\n",
      "Classification Report:\n",
      "               precision    recall  f1-score   support\n",
      "\n",
      "           0       0.99      0.99      0.99       185\n",
      "           1       0.99      0.99      0.99       186\n",
      "\n",
      "    accuracy                           0.99       371\n",
      "   macro avg       0.99      0.99      0.99       371\n",
      "weighted avg       0.99      0.99      0.99       371\n",
      "\n",
      "Number of Queen Segments: 314\n",
      "Number of No Queen Segments: 302\n",
      "Accuracy of MFCC Features on Validation Data: 87.82%\n",
      "\n",
      "Classification Report on Validation Data:\n",
      "               precision    recall  f1-score   support\n",
      "\n",
      "           0       0.99      0.76      0.86       302\n",
      "           1       0.81      0.99      0.89       314\n",
      "\n",
      "    accuracy                           0.88       616\n",
      "   macro avg       0.90      0.88      0.88       616\n",
      "weighted avg       0.90      0.88      0.88       616\n",
      "\n"
     ]
    }
   ],
   "source": [
    "# Example usage\n",
    "queen_training_file = \"QueenBee_Training_45mins_16K.mp3\"\n",
    "no_queen_training_file = \"No_QueenBee_Training_45mins_16K.mp3\"\n",
    "queen_validation_file = \"QueenBee_Testing_15mins_16K.mp3\"\n",
    "no_queen_validation_file = \"No_QueenBee_Testing_15mins_16K.mp3\"\n",
    "\n",
    "process_audio_files(queen_training_file, no_queen_training_file, queen_validation_file, no_queen_validation_file)"
   ]
  },
  {
   "cell_type": "code",
   "execution_count": 4,
   "metadata": {},
   "outputs": [
    {
     "name": "stdout",
     "output_type": "stream",
     "text": [
      "Number of Queen Segments: 929\n",
      "Number of No Queen Segments: 924\n",
      "Accuracy of MFCC Features: 99.19%\n",
      "\n",
      "Classification Report:\n",
      "               precision    recall  f1-score   support\n",
      "\n",
      "           0       0.99      0.99      0.99       185\n",
      "           1       0.99      0.99      0.99       186\n",
      "\n",
      "    accuracy                           0.99       371\n",
      "   macro avg       0.99      0.99      0.99       371\n",
      "weighted avg       0.99      0.99      0.99       371\n",
      "\n",
      "Number of Queen Segments: 314\n",
      "Number of No Queen Segments: 302\n",
      "Accuracy of MFCC Features on Validation Data: 90.91%\n",
      "\n",
      "Classification Report on Validation Data:\n",
      "               precision    recall  f1-score   support\n",
      "\n",
      "           0       1.00      0.82      0.90       302\n",
      "           1       0.85      1.00      0.92       314\n",
      "\n",
      "    accuracy                           0.91       616\n",
      "   macro avg       0.92      0.91      0.91       616\n",
      "weighted avg       0.92      0.91      0.91       616\n",
      "\n"
     ]
    }
   ],
   "source": [
    "# Example usage\n",
    "queen_training_file = \"QueenBee_Training_45mins.flac\"\n",
    "no_queen_training_file = \"No_QueenBee_Training_45mins.flac\"\n",
    "queen_validation_file = \"QueenBee_Testing_15mins.flac\"\n",
    "no_queen_validation_file = \"No_QueenBee_Testing_15mins.flac\"\n",
    "\n",
    "process_audio_files(queen_training_file, no_queen_training_file, queen_validation_file, no_queen_validation_file)"
   ]
  }
 ],
 "metadata": {
  "kernelspec": {
   "display_name": "Python 3",
   "language": "python",
   "name": "python3"
  },
  "language_info": {
   "codemirror_mode": {
    "name": "ipython",
    "version": 3
   },
   "file_extension": ".py",
   "mimetype": "text/x-python",
   "name": "python",
   "nbconvert_exporter": "python",
   "pygments_lexer": "ipython3",
   "version": "3.11.4"
  }
 },
 "nbformat": 4,
 "nbformat_minor": 2
}
