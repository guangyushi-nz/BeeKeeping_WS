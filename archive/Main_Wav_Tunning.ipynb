{
 "cells": [
  {
   "cell_type": "markdown",
   "metadata": {},
   "source": [
    "WAV"
   ]
  },
  {
   "cell_type": "code",
   "execution_count": 2,
   "metadata": {},
   "outputs": [
    {
     "name": "stdout",
     "output_type": "stream",
     "text": [
      "Number of Queen Segments: 929\n",
      "Number of No Queen Segments: 924\n",
      "Best Parameters: {'C': 100, 'gamma': 'scale', 'kernel': 'rbf'}\n",
      "Number of Queen Segments: 314\n",
      "Number of No Queen Segments: 302\n",
      "Accuracy of MFCC Features on testing Data: 90.91%\n",
      "\n",
      "Classification Report on testing Data:\n",
      "               precision    recall  f1-score   support\n",
      "\n",
      "           0       1.00      0.82      0.90       302\n",
      "           1       0.85      1.00      0.92       314\n",
      "\n",
      "    accuracy                           0.91       616\n",
      "   macro avg       0.92      0.91      0.91       616\n",
      "weighted avg       0.92      0.91      0.91       616\n",
      "\n"
     ]
    }
   ],
   "source": [
    "from Main9_Tunning import process_audio_files\n",
    "\n",
    "# Example usage\n",
    "queen_training_file = \"../QueenBee_Training_45mins.wav\"\n",
    "no_queen_training_file = \"../No_QueenBee_Training_45mins.wav\"\n",
    "queen_validation_file = \"../QueenBee_Testing_15mins.wav\"\n",
    "no_queen_validation_file = \"../No_QueenBee_Testing_15mins.wav\"\n",
    "\n",
    "process_audio_files(queen_training_file, no_queen_training_file, queen_validation_file, no_queen_validation_file)"
   ]
  },
  {
   "cell_type": "markdown",
   "metadata": {},
   "source": [
    "MP3 - 64K"
   ]
  },
  {
   "cell_type": "code",
   "execution_count": 2,
   "metadata": {},
   "outputs": [
    {
     "name": "stdout",
     "output_type": "stream",
     "text": [
      "Number of Queen Segments: 929\n",
      "Number of No Queen Segments: 924\n",
      "Best Parameters: {'C': 100, 'gamma': 'scale', 'kernel': 'rbf'}\n",
      "Number of Queen Segments: 314\n",
      "Number of No Queen Segments: 302\n",
      "Accuracy of MFCC Features on testing Data: 88.96%\n",
      "\n",
      "Classification Report on testing Data:\n",
      "               precision    recall  f1-score   support\n",
      "\n",
      "           0       1.00      0.78      0.87       302\n",
      "           1       0.82      1.00      0.90       314\n",
      "\n",
      "    accuracy                           0.89       616\n",
      "   macro avg       0.91      0.89      0.89       616\n",
      "weighted avg       0.91      0.89      0.89       616\n",
      "\n"
     ]
    }
   ],
   "source": [
    "# Example usage\n",
    "queen_training_file = \"QueenBee_Training_45mins_64K.mp3\"\n",
    "no_queen_training_file = \"No_QueenBee_Training_45mins_64K.mp3\"\n",
    "queen_validation_file = \"QueenBee_Testing_15mins_64K.mp3\"\n",
    "no_queen_validation_file = \"No_QueenBee_Testing_15mins_64K.mp3\"\n",
    "\n",
    "process_audio_files(queen_training_file, no_queen_training_file, queen_validation_file, no_queen_validation_file)"
   ]
  },
  {
   "cell_type": "code",
   "execution_count": 3,
   "metadata": {},
   "outputs": [
    {
     "name": "stdout",
     "output_type": "stream",
     "text": [
      "Number of Queen Segments: 929\n",
      "Number of No Queen Segments: 924\n",
      "Best Parameters: {'C': 100, 'gamma': 'scale', 'kernel': 'rbf'}\n",
      "Number of Queen Segments: 314\n",
      "Number of No Queen Segments: 302\n",
      "Accuracy of MFCC Features on testing Data: 89.94%\n",
      "\n",
      "Classification Report on testing Data:\n",
      "               precision    recall  f1-score   support\n",
      "\n",
      "           0       1.00      0.80      0.89       302\n",
      "           1       0.84      1.00      0.91       314\n",
      "\n",
      "    accuracy                           0.90       616\n",
      "   macro avg       0.92      0.90      0.90       616\n",
      "weighted avg       0.91      0.90      0.90       616\n",
      "\n"
     ]
    }
   ],
   "source": [
    "# Example usage\n",
    "queen_training_file = \"QueenBee_Training_45mins_16K.mp3\"\n",
    "no_queen_training_file = \"No_QueenBee_Training_45mins_16K.mp3\"\n",
    "queen_validation_file = \"QueenBee_Testing_15mins_16K.mp3\"\n",
    "no_queen_validation_file = \"No_QueenBee_Testing_15mins_16K.mp3\"\n",
    "\n",
    "process_audio_files(queen_training_file, no_queen_training_file, queen_validation_file, no_queen_validation_file)"
   ]
  },
  {
   "cell_type": "code",
   "execution_count": 2,
   "metadata": {},
   "outputs": [
    {
     "name": "stdout",
     "output_type": "stream",
     "text": [
      "Number of Queen Segments: 929\n",
      "Number of No Queen Segments: 924\n",
      "Best Parameters: {'C': 100, 'gamma': 'scale', 'kernel': 'rbf'}\n",
      "Number of Queen Segments: 314\n",
      "Number of No Queen Segments: 302\n",
      "Accuracy of MFCC Features on testing Data: 90.91%\n",
      "\n",
      "Classification Report on testing Data:\n",
      "               precision    recall  f1-score   support\n",
      "\n",
      "           0       1.00      0.82      0.90       302\n",
      "           1       0.85      1.00      0.92       314\n",
      "\n",
      "    accuracy                           0.91       616\n",
      "   macro avg       0.92      0.91      0.91       616\n",
      "weighted avg       0.92      0.91      0.91       616\n",
      "\n"
     ]
    }
   ],
   "source": [
    "from Main9_Tunning import process_audio_files\n",
    "\n",
    "# Example usage\n",
    "queen_training_file = \"../QueenBee_Training_45mins.flac\"\n",
    "no_queen_training_file = \"../No_QueenBee_Training_45mins.flac\"\n",
    "queen_validation_file = \"../QueenBee_Testing_15mins.flac\"\n",
    "no_queen_validation_file = \"../No_QueenBee_Testing_15mins.flac\"\n",
    "\n",
    "process_audio_files(queen_training_file, no_queen_training_file, queen_validation_file, no_queen_validation_file)"
   ]
  }
 ],
 "metadata": {
  "kernelspec": {
   "display_name": "Python 3",
   "language": "python",
   "name": "python3"
  },
  "language_info": {
   "codemirror_mode": {
    "name": "ipython",
    "version": 3
   },
   "file_extension": ".py",
   "mimetype": "text/x-python",
   "name": "python",
   "nbconvert_exporter": "python",
   "pygments_lexer": "ipython3",
   "version": "3.11.4"
  }
 },
 "nbformat": 4,
 "nbformat_minor": 2
}
