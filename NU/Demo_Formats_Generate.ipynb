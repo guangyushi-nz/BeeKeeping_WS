{
 "cells": [
  {
   "cell_type": "code",
   "execution_count": null,
   "metadata": {},
   "outputs": [],
   "source": [
    "from pydub import silence, AudioSegment\n",
    "from pathlib import Path\n",
    "\n",
    "\n",
    "!C:\\\\Python\\\\libs\\\\ffmpeg\\\\bin\\\\ffmpeg.exe -i QueenBee_Training_45mins.wav -b:a 64k QueenBee_Training_45mins_64K.mp3\n",
    "!C:\\\\Python\\\\libs\\\\ffmpeg\\\\bin\\\\ffmpeg.exe -i QueenBee_Testing_15mins.wav -b:a 64k QueenBee_Testing_15mins_64K.mp3\n",
    "!C:\\\\Python\\\\libs\\\\ffmpeg\\\\bin\\\\ffmpeg.exe -i No_QueenBee_Training_45mins.wav -b:a 64k No_QueenBee_Training_45mins_64K.mp3\n",
    "!C:\\\\Python\\\\libs\\\\ffmpeg\\\\bin\\\\ffmpeg.exe -i No_QueenBee_Testing_15mins.wav -b:a 64k No_QueenBee_Testing_15mins_64K.mp3\n"
   ]
  },
  {
   "cell_type": "code",
   "execution_count": 1,
   "metadata": {},
   "outputs": [
    {
     "name": "stdout",
     "output_type": "stream",
     "text": [
      "^C\n"
     ]
    }
   ],
   "source": [
    "!C:\\\\Python\\\\libs\\\\ffmpeg\\\\bin\\\\ffmpeg.exe -i QueenBee_Training_45mins.wav -b:a 16k QueenBee_Training_45mins_16K.mp3\n",
    "!C:\\\\Python\\\\libs\\\\ffmpeg\\\\bin\\\\ffmpeg.exe -i QueenBee_Testing_15mins.wav -b:a 16k QueenBee_Testing_15mins_16K.mp3\n",
    "!C:\\\\Python\\\\libs\\\\ffmpeg\\\\bin\\\\ffmpeg.exe -i No_QueenBee_Training_45mins.wav -b:a 16k No_QueenBee_Training_45mins_16K.mp3\n",
    "!C:\\\\Python\\\\libs\\\\ffmpeg\\\\bin\\\\ffmpeg.exe -i No_QueenBee_Testing_15mins.wav -b:a 16k No_QueenBee_Testing_15mins_16K.mp3"
   ]
  },
  {
   "cell_type": "code",
   "execution_count": 3,
   "metadata": {},
   "outputs": [],
   "source": [
    "from pydub import AudioSegment\n",
    "\n",
    "def convert_to_flac(source_path, target_path):\n",
    "    # Load the source file\n",
    "    audio = AudioSegment.from_file(source_path)\n",
    "\n",
    "    # Export as FLAC\n",
    "    audio.export(target_path, format=\"flac\")\n",
    "\n",
    "# Path to your original audio file\n",
    "source_path = \"No_QueenBee_Testing_15mins.wav\"  # Change this to the path of your audio file\n",
    "target_path = \"No_QueenBee_Testing_15mins.flac\"  # Change this to your desired output path\n",
    "\n",
    "# Convert to FLAC\n",
    "convert_to_flac(source_path, target_path)\n",
    "\n",
    "# Path to your original audio file\n",
    "source_path = \"No_QueenBee_Training_45mins.wav\"  # Change this to the path of your audio file\n",
    "target_path = \"No_QueenBee_Training_45mins.flac\"  # Change this to your desired output path\n",
    "\n",
    "# Convert to FLAC\n",
    "convert_to_flac(source_path, target_path)\n",
    "\n",
    "# Path to your original audio file\n",
    "source_path = \"QueenBee_Testing_15mins.wav\"  # Change this to the path of your audio file\n",
    "target_path = \"QueenBee_Testing_15mins.flac\"  # Change this to your desired output path\n",
    "\n",
    "# Convert to FLAC\n",
    "convert_to_flac(source_path, target_path)\n",
    "\n",
    "# Path to your original audio file\n",
    "source_path = \"QueenBee_Training_45mins.wav\"  # Change this to the path of your audio file\n",
    "target_path = \"QueenBee_Training_45mins.flac\"  # Change this to your desired output path\n",
    "\n",
    "# Convert to FLAC\n",
    "convert_to_flac(source_path, target_path)\n"
   ]
  }
 ],
 "metadata": {
  "kernelspec": {
   "display_name": "Python 3",
   "language": "python",
   "name": "python3"
  },
  "language_info": {
   "codemirror_mode": {
    "name": "ipython",
    "version": 3
   },
   "file_extension": ".py",
   "mimetype": "text/x-python",
   "name": "python",
   "nbconvert_exporter": "python",
   "pygments_lexer": "ipython3",
   "version": "3.11.4"
  }
 },
 "nbformat": 4,
 "nbformat_minor": 2
}
